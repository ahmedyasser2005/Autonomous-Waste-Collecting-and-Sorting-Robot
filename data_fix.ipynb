{
 "cells": [
  {
   "cell_type": "code",
   "execution_count": 2,
   "metadata": {},
   "outputs": [
    {
     "name": "stdout",
     "output_type": "stream",
     "text": [
      "Moved 734 files for class 3 to validation/test folder.\n"
     ]
    }
   ],
   "source": [
    "import os\n",
    "import random\n",
    "import shutil\n",
    "\n",
    "def move_quarter_of_class(image_dir, label_dir, target_image_dir, target_label_dir, class_id):\n",
    "    \"\"\"\n",
    "    Moves 25% of images and labels of the specified class to the validation/test set.\n",
    "    \n",
    "    Args:\n",
    "    - image_dir (str): Path to the directory containing training images.\n",
    "    - label_dir (str): Path to the directory containing training labels.\n",
    "    - target_image_dir (str): Path to the target directory for images (validation/test).\n",
    "    - target_label_dir (str): Path to the target directory for labels (validation/test).\n",
    "    - class_id (int): The class ID to target for moving.\n",
    "    \"\"\"\n",
    "    # Create target directories if they don't exist\n",
    "    os.makedirs(target_image_dir, exist_ok=True)\n",
    "    os.makedirs(target_label_dir, exist_ok=True)\n",
    "    \n",
    "    # Collect files containing the specified class\n",
    "    files_to_move = []\n",
    "    \n",
    "    for label_file in os.listdir(label_dir):\n",
    "        label_path = os.path.join(label_dir, label_file)\n",
    "        with open(label_path, 'r') as f:\n",
    "            lines = f.readlines()\n",
    "        \n",
    "        # Check if the label file contains the target class ID\n",
    "        if any(line.startswith(str(class_id)) for line in lines):\n",
    "            files_to_move.append(label_file)\n",
    "    \n",
    "    # Shuffle and select a quarter of the files\n",
    "    random.shuffle(files_to_move)\n",
    "    num_to_move = len(files_to_move) // 4\n",
    "    files_to_move = files_to_move[:num_to_move]\n",
    "    \n",
    "    # Move the selected files\n",
    "    for label_file in files_to_move:\n",
    "        # Move label file\n",
    "        label_path = os.path.join(label_dir, label_file)\n",
    "        target_label_path = os.path.join(target_label_dir, label_file)\n",
    "        shutil.move(label_path, target_label_path)\n",
    "        \n",
    "        # Move corresponding image file\n",
    "        image_name = os.path.splitext(label_file)[0] + '.jpg'  # Assuming images are in .jpg format\n",
    "        image_path = os.path.join(image_dir, image_name)\n",
    "        target_image_path = os.path.join(target_image_dir, image_name)\n",
    "        if os.path.exists(image_path):\n",
    "            shutil.move(image_path, target_image_path)\n",
    "    \n",
    "    print(f\"Moved {num_to_move} files for class {class_id} to validation/test folder.\")\n",
    "\n",
    "# Paths to your dataset\n",
    "train_image_directory = \"dataset/train/images\"\n",
    "train_label_directory = \"dataset/train/labels\"\n",
    "val_image_directory = \"dataset/valid/images\"  # Target directory for images (validation/test)\n",
    "val_label_directory = \"dataset/valid/labels\"  # Target directory for labels (validation/test)\n",
    "\n",
    "# Call the function\n",
    "move_quarter_of_class(train_image_directory, train_label_directory, val_image_directory, val_label_directory, class_id=3)"
   ]
  }
 ],
 "metadata": {
  "kernelspec": {
   "display_name": "Python 3",
   "language": "python",
   "name": "python3"
  },
  "language_info": {
   "codemirror_mode": {
    "name": "ipython",
    "version": 3
   },
   "file_extension": ".py",
   "mimetype": "text/x-python",
   "name": "python",
   "nbconvert_exporter": "python",
   "pygments_lexer": "ipython3",
   "version": "3.12.4"
  }
 },
 "nbformat": 4,
 "nbformat_minor": 2
}
